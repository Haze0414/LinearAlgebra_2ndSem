{
  "nbformat": 4,
  "nbformat_minor": 0,
  "metadata": {
    "colab": {
      "name": "Untitled1.ipynb",
      "provenance": [],
      "collapsed_sections": [],
      "authorship_tag": "ABX9TyOM4KqbFikuu35DFOW7CoVy",
      "include_colab_link": true
    },
    "kernelspec": {
      "name": "python3",
      "display_name": "Python 3"
    },
    "language_info": {
      "name": "python"
    }
  },
  "cells": [
    {
      "cell_type": "markdown",
      "metadata": {
        "id": "view-in-github",
        "colab_type": "text"
      },
      "source": [
        "<a href=\"https://colab.research.google.com/github/Haze0414/LinearAlgebra_2ndSem/blob/main/Grade%20Calculator%20-%20Barrientos.ipynb\" target=\"_parent\"><img src=\"https://colab.research.google.com/assets/colab-badge.svg\" alt=\"Open In Colab\"/></a>"
      ]
    },
    {
      "cell_type": "markdown",
      "source": [
        "##Grade Calculator\n"
      ],
      "metadata": {
        "id": "AX5qrczTKkfR"
      }
    },
    {
      "cell_type": "code",
      "source": [
        "w_pg, w_mg, w_fg= 0.3, 0.3, 0.4\n",
        "Name = input(\"Name of the student: \")\n",
        "Program = input(\"Program of the student: \")\n",
        "pg = float (input(\"Your Prelim Grade: \"))\n",
        "mg = float (input(\"Your Midterm Grade: \"))\n",
        "fg = float (input(\"Your Final Grade: \"))\n",
        "sem_grade = (pg*w_pg)+(mg*w_mg)+(fg*w_fg)\n",
        "print(\"Hi {}, a student from {} , your semestral grade for this A.Y is: {} \".format(Name, Program, round(sem_grade, 2)))\n",
        "if(sem_grade > 70.00):\n",
        "  print(\"You're Above Average !\\U0001F600\")\n",
        "elif(sem_grade == 70.00):\n",
        "  print(\"Near Miss!\\U0001F606\")\n",
        "else:\n",
        "  print(\"Better Luck Next Sem!\\U0001F62D\")\n"
      ],
      "metadata": {
        "colab": {
          "base_uri": "https://localhost:8080/"
        },
        "id": "AYf-J2shKpAJ",
        "outputId": "e29d1b5f-20f5-4e84-c3e3-060fb370f5f1"
      },
      "execution_count": 17,
      "outputs": [
        {
          "output_type": "stream",
          "name": "stdout",
          "text": [
            "Name of the student: Demi Andrei Barrientos\n",
            "Program of the student: BS Pharmacy\n",
            "Your Prelim Grade: 96\n",
            "Your Midterm Grade: 95\n",
            "Your Final Grade: 94\n",
            "Hi Demi Andrei Barrientos, a student from BS Pharmacy , your semestral grade for this A.Y is: 94.9 \n",
            "You're Above Average !😀\n"
          ]
        }
      ]
    }
  ]
}